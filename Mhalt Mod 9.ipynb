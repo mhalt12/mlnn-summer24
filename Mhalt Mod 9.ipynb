{
 "cells": [
  {
   "cell_type": "markdown",
   "metadata": {},
   "source": [
    "# Neural Networks - intro\n",
    "## Part 1 - XOR\n",
    "1. Using the XOR dataset below, train (400 epochs) a neural network (NN) using 2, 3, 4, and 5 hidden layers (where each layer has only 2 neurons). For each n layers, store the resulting accuracy along with n. Plot the results to find what the optimal number of layers is.\n",
    "2. Repeat the above with 3 neurons in each Hidden layers. How do these results compare to the 2 neuron layers?\n",
    "3. Repeat the above with 4 neurons in each Hidden layers. How do these results compare to the 2 and 3 neuron layers?\n",
    "3. Using the most optimal configuraion (n-layers, k-neurons per layer), compare how `tanh`, `sigmoid`,`softplus` and `relu` effect the loss after 400 epochs. Try other Activation functions as well (https://keras.io/activations/)\n",
    "4. Again with the most optimal setup, try other optimizers (instead of `SGD`) and report on the loss score. (https://keras.io/optimizers/)\n",
    "\n",
    "## Part 2 - BYOD (Bring your own Dataset)\n",
    "Using your own dataset, experiment and find the best Neural Network configuration. \n",
    "You may use any resource to improve results, just reference it.\n",
    "\n",
    "While you may use any dataset, I'd prefer you didn't use the diabetes dataset used in the lesson.\n",
    "\n",
    "https://stackoverflow.com/questions/34673164/how-to-train-and-tune-an-artificial-multilayer-perceptron-neural-network-using-k\n",
    "\n",
    "https://keras.io/"
   ]
  },
  {
   "cell_type": "code",
   "execution_count": 1,
   "metadata": {},
   "outputs": [
    {
     "name": "stdout",
     "output_type": "stream",
     "text": [
      "Requirement already satisfied: tensorflow in /Users/mhalt/opt/anaconda3/lib/python3.9/site-packages (2.16.2)\n",
      "Requirement already satisfied: keras in /Users/mhalt/opt/anaconda3/lib/python3.9/site-packages (3.4.1)\n",
      "Requirement already satisfied: typing-extensions>=3.6.6 in /Users/mhalt/opt/anaconda3/lib/python3.9/site-packages (from tensorflow) (4.12.2)\n",
      "Requirement already satisfied: absl-py>=1.0.0 in /Users/mhalt/opt/anaconda3/lib/python3.9/site-packages (from tensorflow) (2.1.0)\n",
      "Requirement already satisfied: setuptools in /Users/mhalt/opt/anaconda3/lib/python3.9/site-packages (from tensorflow) (63.4.1)\n",
      "Requirement already satisfied: tensorflow-io-gcs-filesystem>=0.23.1 in /Users/mhalt/opt/anaconda3/lib/python3.9/site-packages (from tensorflow) (0.37.1)\n",
      "Requirement already satisfied: wrapt>=1.11.0 in /Users/mhalt/opt/anaconda3/lib/python3.9/site-packages (from tensorflow) (1.14.1)\n",
      "Requirement already satisfied: six>=1.12.0 in /Users/mhalt/opt/anaconda3/lib/python3.9/site-packages (from tensorflow) (1.16.0)\n",
      "Requirement already satisfied: termcolor>=1.1.0 in /Users/mhalt/opt/anaconda3/lib/python3.9/site-packages (from tensorflow) (2.4.0)\n",
      "Requirement already satisfied: google-pasta>=0.1.1 in /Users/mhalt/opt/anaconda3/lib/python3.9/site-packages (from tensorflow) (0.2.0)\n",
      "Requirement already satisfied: libclang>=13.0.0 in /Users/mhalt/opt/anaconda3/lib/python3.9/site-packages (from tensorflow) (18.1.1)\n",
      "Requirement already satisfied: astunparse>=1.6.0 in /Users/mhalt/opt/anaconda3/lib/python3.9/site-packages (from tensorflow) (1.6.3)\n",
      "Requirement already satisfied: grpcio<2.0,>=1.24.3 in /Users/mhalt/opt/anaconda3/lib/python3.9/site-packages (from tensorflow) (1.65.2)\n",
      "Requirement already satisfied: opt-einsum>=2.3.2 in /Users/mhalt/opt/anaconda3/lib/python3.9/site-packages (from tensorflow) (3.3.0)\n",
      "Requirement already satisfied: ml-dtypes~=0.3.1 in /Users/mhalt/opt/anaconda3/lib/python3.9/site-packages (from tensorflow) (0.3.2)\n",
      "Requirement already satisfied: protobuf!=4.21.0,!=4.21.1,!=4.21.2,!=4.21.3,!=4.21.4,!=4.21.5,<5.0.0dev,>=3.20.3 in /Users/mhalt/opt/anaconda3/lib/python3.9/site-packages (from tensorflow) (4.25.4)\n",
      "Requirement already satisfied: flatbuffers>=23.5.26 in /Users/mhalt/opt/anaconda3/lib/python3.9/site-packages (from tensorflow) (24.3.25)\n",
      "Requirement already satisfied: requests<3,>=2.21.0 in /Users/mhalt/opt/anaconda3/lib/python3.9/site-packages (from tensorflow) (2.28.1)\n",
      "Requirement already satisfied: tensorboard<2.17,>=2.16 in /Users/mhalt/opt/anaconda3/lib/python3.9/site-packages (from tensorflow) (2.16.2)\n",
      "Requirement already satisfied: gast!=0.5.0,!=0.5.1,!=0.5.2,>=0.2.1 in /Users/mhalt/opt/anaconda3/lib/python3.9/site-packages (from tensorflow) (0.6.0)\n",
      "Requirement already satisfied: packaging in /Users/mhalt/opt/anaconda3/lib/python3.9/site-packages (from tensorflow) (21.3)\n",
      "Requirement already satisfied: h5py>=3.10.0 in /Users/mhalt/opt/anaconda3/lib/python3.9/site-packages (from tensorflow) (3.11.0)\n",
      "Requirement already satisfied: numpy<2.0.0,>=1.23.5 in /Users/mhalt/opt/anaconda3/lib/python3.9/site-packages (from tensorflow) (1.26.4)\n",
      "Requirement already satisfied: optree in /Users/mhalt/opt/anaconda3/lib/python3.9/site-packages (from keras) (0.12.1)\n",
      "Requirement already satisfied: rich in /Users/mhalt/opt/anaconda3/lib/python3.9/site-packages (from keras) (13.7.1)\n",
      "Requirement already satisfied: namex in /Users/mhalt/opt/anaconda3/lib/python3.9/site-packages (from keras) (0.0.8)\n",
      "Requirement already satisfied: wheel<1.0,>=0.23.0 in /Users/mhalt/opt/anaconda3/lib/python3.9/site-packages (from astunparse>=1.6.0->tensorflow) (0.37.1)\n",
      "Requirement already satisfied: idna<4,>=2.5 in /Users/mhalt/opt/anaconda3/lib/python3.9/site-packages (from requests<3,>=2.21.0->tensorflow) (3.3)\n",
      "Requirement already satisfied: urllib3<1.27,>=1.21.1 in /Users/mhalt/opt/anaconda3/lib/python3.9/site-packages (from requests<3,>=2.21.0->tensorflow) (1.26.11)\n",
      "Requirement already satisfied: charset-normalizer<3,>=2 in /Users/mhalt/opt/anaconda3/lib/python3.9/site-packages (from requests<3,>=2.21.0->tensorflow) (2.0.4)\n",
      "Requirement already satisfied: certifi>=2017.4.17 in /Users/mhalt/opt/anaconda3/lib/python3.9/site-packages (from requests<3,>=2.21.0->tensorflow) (2022.9.24)\n",
      "Requirement already satisfied: werkzeug>=1.0.1 in /Users/mhalt/opt/anaconda3/lib/python3.9/site-packages (from tensorboard<2.17,>=2.16->tensorflow) (2.0.3)\n",
      "Requirement already satisfied: tensorboard-data-server<0.8.0,>=0.7.0 in /Users/mhalt/opt/anaconda3/lib/python3.9/site-packages (from tensorboard<2.17,>=2.16->tensorflow) (0.7.2)\n",
      "Requirement already satisfied: markdown>=2.6.8 in /Users/mhalt/opt/anaconda3/lib/python3.9/site-packages (from tensorboard<2.17,>=2.16->tensorflow) (3.3.4)\n",
      "Requirement already satisfied: pyparsing!=3.0.5,>=2.0.2 in /Users/mhalt/opt/anaconda3/lib/python3.9/site-packages (from packaging->tensorflow) (3.0.9)\n",
      "Requirement already satisfied: markdown-it-py>=2.2.0 in /Users/mhalt/opt/anaconda3/lib/python3.9/site-packages (from rich->keras) (3.0.0)\n",
      "Requirement already satisfied: pygments<3.0.0,>=2.13.0 in /Users/mhalt/opt/anaconda3/lib/python3.9/site-packages (from rich->keras) (2.18.0)\n",
      "Requirement already satisfied: mdurl~=0.1 in /Users/mhalt/opt/anaconda3/lib/python3.9/site-packages (from markdown-it-py>=2.2.0->rich->keras) (0.1.2)\n"
     ]
    }
   ],
   "source": [
    "!pip3 install tensorflow keras"
   ]
  },
  {
   "cell_type": "code",
   "execution_count": null,
   "metadata": {},
   "outputs": [],
   "source": [
    "from keras.models import Sequential\n",
    "from keras.layers import Dense\n",
    "from keras.optimizers import SGD  #Stochastic Gradient Descent\n"
   ]
  },
  {
   "cell_type": "code",
   "execution_count": null,
   "metadata": {},
   "outputs": [],
   "source": [
    "import numpy as np\n",
    "np.random.seed(7)\n",
    "import matplotlib.pyplot as plt\n",
    "%matplotlib inline"
   ]
  },
  {
   "cell_type": "code",
   "execution_count": null,
   "metadata": {},
   "outputs": [],
   "source": [
    "n = 40\n",
    "xx = np.random.random((n,1))\n",
    "yy = np.random.random((n,1))"
   ]
  },
  {
   "cell_type": "code",
   "execution_count": null,
   "metadata": {},
   "outputs": [],
   "source": [
    "X = np.array([np.array([xx,-xx,-xx,xx]),np.array([yy,-yy,yy,-yy])]).reshape(2,4*n).T\n",
    "y = np.array([np.ones([2*n]),np.zeros([2*n])]).reshape(4*n)"
   ]
  },
  {
   "cell_type": "code",
   "execution_count": null,
   "metadata": {},
   "outputs": [],
   "source": [
    "plt.scatter(*zip(*X), c=y)"
   ]
  },
  {
   "cell_type": "code",
   "execution_count": null,
   "metadata": {},
   "outputs": [],
   "source": [
    "model = Sequential()\n",
    "\n",
    "model.add(Dense(2, input_dim=2, activation='tanh'))  #sigmoid, relu\n",
    "# model.add(Dense(2, activation='tanh'))\n",
    "model.add(Dense(1, activation='sigmoid'))\n",
    "# model.add(Dense(1,input_dim=2, activation='sigmoid'))\n",
    "\n",
    "\n",
    "sgd = SGD(lr=0.1)\n",
    "model.compile(loss='binary_crossentropy', optimizer='sgd')\n",
    "\n",
    "model.fit(X, y, batch_size=2, epochs=400) #160/4 = 40 per epoch\n",
    "print(model.predict_proba(X).reshape(4*n))\n",
    "\n",
    "# evaluate the model\n",
    "scores = model.evaluate(X, y)"
   ]
  },
  {
   "cell_type": "code",
   "execution_count": null,
   "metadata": {
    "scrolled": true
   },
   "outputs": [],
   "source": [
    "print(model.predict_proba(X).reshape(4*n))\n"
   ]
  },
  {
   "cell_type": "code",
   "execution_count": null,
   "metadata": {},
   "outputs": [],
   "source": [
    "scores = model.evaluate(X, y)\n",
    "scores, model.metrics_names"
   ]
  },
  {
   "cell_type": "code",
   "execution_count": null,
   "metadata": {},
   "outputs": [],
   "source": [
    "plt.scatter(*zip(*X), c=model.predict_classes(X))"
   ]
  },
  {
   "cell_type": "code",
   "execution_count": null,
   "metadata": {},
   "outputs": [],
   "source": [
    "plt.scatter(*zip(*X), c=model.predict(X))"
   ]
  },
  {
   "cell_type": "markdown",
   "metadata": {},
   "source": [
    "## Using Diabetes data "
   ]
  },
  {
   "cell_type": "markdown",
   "metadata": {},
   "source": [
    "http://archive.ics.uci.edu/ml/machine-learning-databases/pima-indians-diabetes/pima-indians-diabetes.data\n",
    "\n",
    "1. Number of times pregnant \n",
    "2. Plasma glucose concentration a 2 hours in an oral glucose tolerance test \n",
    "3. Diastolic blood pressure (mm Hg) \n",
    "4. Triceps skin fold thickness (mm) \n",
    "5. 2-Hour serum insulin (mu U/ml) \n",
    "6. Body mass index (weight in kg/(height in m)^2) \n",
    "7. Diabetes pedigree function \n",
    "8. Age (years) \n",
    "9. Class variable (0 or 1) "
   ]
  },
  {
   "cell_type": "code",
   "execution_count": null,
   "metadata": {},
   "outputs": [],
   "source": [
    "from keras.models import Sequential\n",
    "import pandas as pd\n",
    "from keras.utils import to_categorical\n",
    "coffee = pd.read_csv('~/Desktop/df_arabica_clean.csv', delimiter=\",\")\n",
    "coffee.head\n",
    "\n",
    "# split into input (X) and output (Y) variables\n",
    "X = dataset[:,0:8]\n",
    "Y = dataset[:,8]"
   ]
  },
  {
   "cell_type": "code",
   "execution_count": null,
   "metadata": {
    "scrolled": true
   },
   "outputs": [],
   "source": [
    "# create model\n",
    "model = Sequential()\n",
    "model.add(Dense(16, input_dim=8, activation='tanh'))\n",
    "model.add(Dense(16, activation='tanh'))\n",
    "model.add(Dense(1, activation='sigmoid'))\n",
    "# Compile model\n",
    "model.compile(loss='binary_crossentropy', optimizer='adam', metrics=['accuracy'])\n",
    "# Fit the model\n",
    "model.fit(X, Y, epochs=1000, batch_size=10)\n",
    "# evaluate the model\n",
    "scores = model.evaluate(X, Y)\n",
    "print(\"\\n%s: %.2f%%\" % (model.metrics_names[1], scores[1]*100))"
   ]
  },
  {
   "cell_type": "markdown",
   "metadata": {},
   "source": []
  },
  {
   "cell_type": "code",
   "execution_count": null,
   "metadata": {},
   "outputs": [],
   "source": [
    "def byod2(layers, neurons, act, opt):\n",
    "    model = Sequential()\n",
    "    model.add(Dense(neurons, input_dim= 13, activation=act))\n",
    "    for _ in range(layers - 1):\n",
    "        model.add(Dense(neurons, activation=act))\n",
    "    model.add(Dense(3, activation='softmax'))\n",
    "    model.compile(loss='categorical_crossentropy', optimizer=opt, metrics=['accuracy'])\n",
    "    record = model.fit(X, y, epochs=100, batch_size=10, validation_split=0.4, verbose=0)\n",
    "    loss, accuracy = model.evaluate(X, y, verbose=0)\n",
    "    return loss, accuracy, record.history"
   ]
  },
  {
   "cell_type": "code",
   "execution_count": null,
   "metadata": {},
   "outputs": [],
   "source": [
    "configs = [\n",
    "    {'layers': 2, 'neurons': 3, 'act': 'tanh', 'opt': 'Lion'},\n",
    "    {'layers': 5, 'neurons': 3, 'act': 'tanh', 'opt': 'Lion'},\n",
    "    {'layers': 1, 'neurons': 4, 'act': 'tanh', 'opt': 'Lion'},\n",
    "    {'layers': 2, 'neurons': 3, 'act': 'selu', 'opt': 'Lion'},\n",
    "    {'layers': 5, 'neurons': 3, 'act': 'selu', 'opt': 'Lion'},\n",
    "    {'layers': 1, 'neurons': 4, 'act': 'selu', 'opt': 'Lion'},\n",
    "    {'layers': 2, 'neurons': 3, 'act': 'tanh', 'opt': 'Adam'},\n",
    "    {'layers': 5, 'neurons': 3, 'act': 'tanh', 'opt': 'Adam'},\n",
    "    {'layers': 1, 'neurons': 4, 'act': 'tanh', 'opt': 'Adam'},\n",
    "    {'layers': 2, 'neurons': 3, 'act': 'selu', 'opt': 'Adam'},\n",
    "    {'layers': 5, 'neurons': 2, 'act': 'selu', 'opt': 'Adam'},\n",
    "    {'layers': 1, 'neurons': 4, 'act': 'selu', 'opt': 'Adam'}\n",
    "]"
   ]
  },
  {
   "cell_type": "code",
   "execution_count": null,
   "metadata": {},
   "outputs": [],
   "source": [
    "results2 = []\n",
    "\n",
    "for config in configs:\n",
    "    layers = config['layers']\n",
    "    neurons = config['neurons']\n",
    "    act = config['act']\n",
    "    opt = config['opt']\n",
    "    loss, accuracy, record = byod2(layers, neurons, act,  opt)\n",
    "    results2.append({'layers': layers, 'neurons': neurons, 'activation': act, \n",
    "                    'optimizater':opt, 'loss':loss, 'accuracy':accuracy, 'record': record}) "
   ]
  },
  {
   "cell_type": "code",
   "execution_count": null,
   "metadata": {},
   "outputs": [],
   "source": []
  },
  {
   "cell_type": "code",
   "execution_count": null,
   "metadata": {},
   "outputs": [],
   "source": []
  }
 ],
 "metadata": {
  "kernelspec": {
   "display_name": "Python 3 (ipykernel)",
   "language": "python",
   "name": "python3"
  },
  "language_info": {
   "codemirror_mode": {
    "name": "ipython",
    "version": 3
   },
   "file_extension": ".py",
   "mimetype": "text/x-python",
   "name": "python",
   "nbconvert_exporter": "python",
   "pygments_lexer": "ipython3",
   "version": "3.9.13"
  }
 },
 "nbformat": 4,
 "nbformat_minor": 2
}
